{
 "cells": [
  {
   "cell_type": "markdown",
   "metadata": {},
   "source": [
    "# 4096 Channel 2/1 Oversampled 4 GHz Polyphase Filterbank on the Xilinx RFSoC\n",
    "\n",
    "This notebook tests the functionality of the OPFB."
   ]
  },
  {
   "cell_type": "markdown",
   "metadata": {},
   "source": [
    "## Imports, Definitions, and Instantiating the overlay"
   ]
  },
  {
   "cell_type": "code",
   "execution_count": 1,
   "metadata": {},
   "outputs": [],
   "source": [
    "from mkidgen3.daccomb import generate as gen_comb\n",
    "from mkidgen3.pynq import dma_status  ## also activates the drivers\n",
    "from mkidgen3.testutils import do_fft, extract_opfb_spec, fir\n",
    "from mkidgen3.fixedpoint import *\n",
    "import logging\n",
    "import numpy as np\n",
    "import time\n",
    "import pynq\n",
    "from pynq import PL, Overlay, DefaultIP, allocate\n",
    "from fpbinary import FpBinary, OverflowEnum, RoundingEnum\n",
    "import itertools\n",
    "import matplotlib.pyplot as plt\n",
    "from scipy.signal import welch\n",
    "\n",
    "logging.basicConfig()\n",
    "\n",
    "n_res = 2048 # number of MKID resonators\n",
    "n_bin = 4096 # number of PFB channels\n",
    "\n",
    "# initialize vars for data transfer\n",
    "n_packets_rcvd, n_packets_sent, pptx, input_buffer = 0, 0, None, None\n",
    "next_sample_send=0"
   ]
  },
  {
   "cell_type": "markdown",
   "metadata": {},
   "source": [
    "We've had some issues with unexpected ZCU111 hangs and this was suggesting as a stabilizing measure on the PYNQ forums. This configuration is designed to enable timeouts for PS/PL AXI connnections."
   ]
  },
  {
   "cell_type": "code",
   "execution_count": 2,
   "metadata": {},
   "outputs": [],
   "source": [
    "mmio  = pynq.MMIO(0xFD610000 , 64)\n",
    "mmio.write(0x18, 7) # Return slave errors when timeouts occur\n",
    "mmio.write(0x20, 0x1020) # Set and enable prescale of 32 which should be about 10 ms\n",
    "mmio.write(0x10, 0x7) # Enable transactions tracking\n",
    "mmio.write(0x14, 0x7) # Enable timeouts"
   ]
  },
  {
   "cell_type": "markdown",
   "metadata": {},
   "source": [
    "Load the overlay and extract the dma core"
   ]
  },
  {
   "cell_type": "code",
   "execution_count": 3,
   "metadata": {},
   "outputs": [
    {
     "name": "stdout",
     "output_type": "stream",
     "text": [
      "PL Bitfile: /home/xilinx/overlays/opfb_timing_opt/OPFB_TimingOpt.bit\n",
      "PL Timestamp: 2020/11/14 4:45:24 +313243\n",
      "Overlay timestamp: 2020/11/14 4:45:24 +313243  Loaded: True\n",
      "DMA:\n",
      " Buffer Length: 262144 bytes\n",
      " MM2s\n",
      " Idle:False\n",
      " MM2S_DMASR (status):0x0\n",
      " MM2S_SA (ptr) :0x0\n",
      " MM2S_LENGTH (len):0\n",
      " S2MM\n",
      " Idle:False\n",
      " S2MM_DMASR (status):0x0\n",
      " S2MM_DA (ptr) :0x0\n",
      " S2MM_LENGTH (len):0\n"
     ]
    }
   ],
   "source": [
    "ol = Overlay('/home/xilinx/overlays/opfb_timing_opt/OPFB_TimingOpt.bit')\n",
    "ol.download()\n",
    "dma = ol.axi_dma_0\n",
    "print(f\"PL Bitfile: {PL.bitfile_name}\\nPL Timestamp: {PL.timestamp}\\n\"\n",
    "      f\"Overlay timestamp: {ol.timestamp}  Loaded: {ol.is_loaded()}\")\n",
    "dma_status(dma)"
   ]
  },
  {
   "cell_type": "markdown",
   "metadata": {},
   "source": [
    "## Reading and writing DMA\n",
    "\n",
    "Prepare some functions to convert numpy data to and from the correct data format.\n",
    "\n",
    "Keep in mind the cores are based around 256 groups of 8 or 16 samples in parallel. Each sample is either 2 or 4 bytes depending on if they are real or complex. We are sending in a 256 bit stream that will be split into 128 low (I) and 128 high bits (Q), each transaction of which consists of 8 16 bit numbers. The TLAST of the DMA serves as a trigger to the large AXIS FIFO (4096 deep) in the OL that is configured in packet mode to trigger streaming though the opfb cores (data doesn't flow until the DMA write is done). This supports sending up to 16 packets (256 groups of 8 samples) at a time. The adc2opfb core will provide a tlast to the FIR every 512 transactions (1 stream beat).\n",
    "\n",
    "Since one packet contains 2048 samples it results in 128 new values being fed into each lane packet[0-7::32] is lane0-7 real, packet[0-7 + 8::32] are lane0-7 imag. packet[0-7 + 16::32] is lane8-15 real and packet[0-7 + 24::32] the iamginary. The other 128 values that are sent down the lane are pulled by the adc2fir core from the respective lanes' shift registers. The ADC 2 FIR [sheet](https://docs.google.com/spreadsheets/d/1Aq9HyYat-zHmeC_wIC7wDO6Zweh_Myets_AHY71ldlU/edit#gid=0) in the linked google doc shows the resulting output of a C/RTL simulation of the core when fed with ADC \"samples\" composed of a ramp of reals. i.e. The first transaction in the beat is 0,1,2,3,4,5,6,7; the second, 8,9,10,11,...15 etc.\n",
    "\n",
    "The FIR cores (one per lane) are configured with 256 coefficient sets of 8 taps each so that floor(channel/2) gives the coefficient set used. They are not configured to blank the output until the taps are fully loaded. Two stream beats (two packets sent) will fill one tap for all 512 channels (256 channels and their 256 delayed counterparts). So packets 0-13 fill the first 7 taps. Packet 14 and 15 will place data into the last tap. \n",
    "\n",
    "The output of the FIRs feeds into the fir2fft core which de-interleaves and buffers the delayed and non-delayed samples in each stream beat. It replays them, non-delayed followed by the delayed samples reordered so that the output ADC sample subseries is convolved with FIR coefficients needed by the FFT. See the FIR 2 FFT sheet in the aformentioned google sheet for the results of the C/RTL simulation on the reorder core.\n",
    "\n",
    "The reorder core feeds transactions into an 4096 deep (16 packets) AXIS FIFO that is not in packet mode, so it passes things along as soon as the AXI DMA is ready. Since the blocks have latency you can only recieve one less packet than is sent. All recieve operations must be one packet at a time because the TLAST is generated by the reoder core. \n",
    "\n",
    "The resulting output stream is similar to the input, though it consists of groups of 16 complex numbers due to the oversampling and is also joins the I and Q values (512 bits, 16x32b, 16 `complex<ap_fixed<-9,25>>`). So the packet needs to be read into a buffer of 8192 uint16s. buffer[::32] is lane0real buffer[1::32] is lane0imag and so forth. \n",
    "\n",
    "This overlay is equiped with a System ILA with an 2048 deep capture buffer.\n",
    "- Slot0: adc2opfb lane0 output\n",
    "- Slot1: adc2opfb input (istream_data)\n",
    "- Slot2: fir2fft lane0 input\n",
    "- Slot3: ssrfft lane0 input"
   ]
  },
  {
   "cell_type": "markdown",
   "metadata": {},
   "source": [
    "## Prepare the Data\n",
    "\n",
    "What tones do we want to send?"
   ]
  },
  {
   "cell_type": "code",
   "execution_count": 4,
   "metadata": {},
   "outputs": [],
   "source": [
    "n_total_packets=272   #How many packets (each packet is enough samples for a single 4096 FFT frame)\n",
    "n_samples=256*n_total_packets*8  #How many waveform samples do we need to generate\n",
    "sample_rate=4.096e9\n",
    "\n",
    "freq=np.array([300.5,302])*1e6 #(np.linspace(1,4094,2046)-2047)*1e6  # -2048-2047 MHz\n",
    "amplitudes = (np.ones_like(freq))/2\n",
    "phases= np.zeros_like(freq)"
   ]
  },
  {
   "cell_type": "markdown",
   "metadata": {},
   "source": [
    "Generate the complex waveform"
   ]
  },
  {
   "cell_type": "code",
   "execution_count": 5,
   "metadata": {},
   "outputs": [],
   "source": [
    "t = 2 * np.pi * np.arange(n_samples)/sample_rate\n",
    "comb=np.zeros(n_samples, dtype=np.complex64)\n",
    "for i in range(freq.size):\n",
    "    comb += amplitudes[i] * np.exp(1j * (t * freq[i] + phases[i]))"
   ]
  },
  {
   "cell_type": "code",
   "execution_count": 6,
   "metadata": {},
   "outputs": [
    {
     "name": "stdout",
     "output_type": "stream",
     "text": [
      "Comb shape: (144, 2048). \n",
      "Total Samples: 294912. Memory: 2 MB\n",
      "Max value: 1.0.\n",
      "Expected tone amplitude factor: ~512 * N_TONES_IN_BIN. (4096/8 as FFT scale dfaults to 8 in last 3 stages)\n",
      "Resulting samples per output bin: 144.0\n"
     ]
    }
   ],
   "source": [
    "comb=comb.reshape(comb.size//n_res, n_res)\n",
    "print(f\"Comb shape: {comb.shape}. \\nTotal Samples: {comb.size}. Memory: {comb.size*8/1024**2:.0f} MB\\n\"\n",
    "      f\"Max value: {np.abs(comb).max()}.\\n\"\n",
    "      f\"Expected tone amplitude factor: ~512 * N_TONES_IN_BIN. (4096/8 as FFT scale dfaults to 8 in last 3 stages)\\n\"\n",
    "      f\"Resulting samples per output bin: {comb.size*2/n_bin}\")"
   ]
  },
  {
   "cell_type": "markdown",
   "metadata": {},
   "source": [
    "Plot an FFT of the first full timeseries"
   ]
  },
  {
   "cell_type": "code",
   "execution_count": 7,
   "metadata": {},
   "outputs": [],
   "source": [
    "if False:\n",
    "    plt.figure(figsize=(7,4))\n",
    "    plt.plot(np.fft.fftfreq(comb.size, d=1/sample_rate)/1e9, \n",
    "             np.abs(np.fft.fft(comb.ravel(), norm='ortho')))\n",
    "    plt.xlim(-sample_rate/2e9,sample_rate/2e9);\n",
    "    plt.xlabel('Freq (GHz)');"
   ]
  },
  {
   "cell_type": "markdown",
   "metadata": {},
   "source": [
    "## Prepare an output array"
   ]
  },
  {
   "cell_type": "code",
   "execution_count": 8,
   "metadata": {},
   "outputs": [],
   "source": [
    "packets_out=np.zeros((comb.shape[0], n_bin), dtype=np.complex64)"
   ]
  },
  {
   "cell_type": "code",
   "execution_count": 9,
   "metadata": {},
   "outputs": [],
   "source": [
    "def packet_to_buffer(packet, zero_i=tuple(), zero_q=tuple(), fp=True, fpgen=FP16_15, scale=1,\n",
    "                     opfb_format=True):\n",
    "    \"\"\"\n",
    "    Converts a packet of complex data into a n_res*2 uint16 array\n",
    "    Packet should be an array of dtype=np.complex64 or 128. length must be a multiple of 16\n",
    "    zero_i & zero_q may be set to a tuple to selectively zero out values going into specific lanes\n",
    "    Setting fp = False will result in the real and imaginaty values being multiplied by scale\n",
    "    and then cast to uint16. Otherwise FpBinary will be used to convert the data from float to signed 16_15.\n",
    "    \"\"\"\n",
    "    if fp:\n",
    "        ibits = [fpgen(x).__index__() for x in packet.real]\n",
    "        qbits = [fpgen(x).__index__() for x in packet.imag]\n",
    "    else:\n",
    "        ibits = (packet.real * scale).astype(np.uint16)\n",
    "        qbits = (packet.imag * scale).astype(np.uint16)\n",
    "    data = np.zeros(2 * packet.size, dtype=np.uint16)\n",
    "    if opfb_format:\n",
    "        for i in range(8):\n",
    "            data[i::16] = 0 if i in zero_i else ibits[i::8]\n",
    "            data[i + 8::16] = 0 if i in zero_q else qbits[i::8]\n",
    "    else:\n",
    "        data[::2] = ibits\n",
    "        data[1::2] = qbits\n",
    "    return data\n",
    "\n",
    "def prep_buffers(ntx=16, n_res=2048, n_bin=4096, latency_shift=3*16, bin_out=True):\n",
    "    \"\"\"\n",
    "    ntx: How many packets do we send per DMA transfer.\n",
    "         Must be <=16 to move the stream smoothly through the core\n",
    "    \"\"\"\n",
    "    global pptx, input_buffer, output_buffer\n",
    "    pptx = ntx\n",
    "\n",
    "    try:\n",
    "        # Close buffers if they are open\n",
    "        input_buffer.close()\n",
    "        output_buffer.close()\n",
    "    except (NameError,AttributeError):\n",
    "        pass\n",
    "\n",
    "    # Create the buffers\n",
    "    n_in_buff = n_res * 2 * pptx if n_packets_sent else n_res * 2 * pptx + latency_shift * 2\n",
    "    input_buffer = allocate(shape=(n_in_buff,), dtype=np.uint16)  # 2048 I & Q\n",
    "    output_buffer = allocate(shape=((n_bin if bin_out else n_res) * 2,), dtype=np.uint16)\n",
    "    \n",
    "def txcomb(dma, comb, n_res=2048, latency_shift=3*16, wait=True, **kwargs):\n",
    "    global n_packets_sent, pptx, input_buffer, next_sample_send\n",
    "    # 92/2 empirically determined to overcome reorder core latency\n",
    "\n",
    "    if n_packets_sent or latency_shift == 0:\n",
    "        n_to_send = pptx * n_res\n",
    "        data = comb.ravel()[next_sample_send:next_sample_send + n_to_send]\n",
    "        input_buffer[:] = packet_to_buffer(data, **kwargs)\n",
    "    else:\n",
    "        n_to_send = (pptx - 1) * n_res + latency_shift\n",
    "        data = comb.ravel()[:n_to_send]\n",
    "        input_buffer[:n_res * 2] = 0\n",
    "        input_buffer[n_res * 2:] = packet_to_buffer(data, **kwargs)\n",
    "    dma.sendchannel.transfer(input_buffer)\n",
    "    if wait:\n",
    "        dma.sendchannel.wait()\n",
    "    next_sample_send += n_to_send\n",
    "    n_packets_sent = 1 + next_sample_send // n_res\n",
    "    \n",
    "def rxpackets(dma, packets_out, n=None, status=False, packet_latency=1, wait=True, **kwargs):\n",
    "    \"\"\"Attempts to receive packets. If no number is specified then n_outstanding-1 are received.\"\"\"\n",
    "    global n_packets_sent, n_packets_rcvd\n",
    "    converted=None\n",
    "    if n is None:\n",
    "        n = n_packets_sent - n_packets_rcvd - packet_latency\n",
    "    for i in range(n):\n",
    "        if status:\n",
    "            print(f\"Receiving packet {n_packets_rcvd}\")\n",
    "        dma.recvchannel.transfer(output_buffer)\n",
    "        if wait:\n",
    "            dma.recvchannel.wait()\n",
    "        converted = packet_from_buffer(output_buffer, **kwargs)\n",
    "        packets_out[n_packets_rcvd] = converted\n",
    "        n_packets_rcvd += 1\n",
    "    return converted\n",
    "\n",
    "def packet_from_buffer(buffer, fp=True, scale=1, fpformat=(1,15)):\n",
    "    \"\"\"\n",
    "    Converts a buffer of uint16 fixed point data to a np.complex128.\n",
    "    Buffer must be in multiples of 2*n_bin.\n",
    "    \"\"\"\n",
    "    ibits = np.zeros(buffer.size // 2, dtype=np.uint16)\n",
    "    qbits = np.zeros(buffer.size // 2, dtype=np.uint16)\n",
    "    for i in range(16):  # NB this code WILL work for output that is in groups of 8 (resonators) as well\n",
    "        ibits[i::16] = buffer[2 * i::32]\n",
    "        qbits[i::16] = buffer[2 * i + 1::32]\n",
    "\n",
    "    packet = np.zeros(buffer.size // 2, dtype=np.complex128)\n",
    "    if fp:\n",
    "        fp = lambda x: FpBinary(int_bits=fpformat[0], frac_bits=fpformat[1], signed=True, bit_field=int(x))\n",
    "        packet.real = [float(fp(x)) for x in ibits]\n",
    "        packet.imag = [float(fp(x)) for x in qbits]\n",
    "    else:\n",
    "        packet.real = ibits * scale\n",
    "        packet.imag = qbits * scale\n",
    "\n",
    "    return packet\n",
    "\n",
    "def txrx(dma, comb, nper, packets_out, n_total_packets=None, packet_latency=1, in_per_out=2, bin_out=False,\n",
    "         txfp=FP16_15, rxfp=(1,15), wait=True, show=False, tx_post_opfb=False, latency_shift=3*16):\n",
    "    if n_total_packets is None:\n",
    "        n_total_packets=comb.size//256//8\n",
    "    prep_buffers(nper, bin_out=bin_out, latency_shift=latency_shift)\n",
    "    n_loop=(n_total_packets - n_packets_sent) // pptx\n",
    "    for i in range(n_loop):\n",
    "        txcomb(dma, comb, wait=wait, fpgen=txfp, latency_shift=latency_shift, opfb_format=not tx_post_opfb)\n",
    "        pending = n_packets_sent//in_per_out - n_packets_rcvd - packet_latency\n",
    "        if show:\n",
    "            print(f\"Sent: {n_packets_sent}  Pending: {pending}\")\n",
    "        rxpackets(dma, packets_out, n=pending, wait=wait, fpformat=rxfp)\n",
    "        if show:\n",
    "            print(f\"Received: {n_packets_rcvd}.\")\n",
    "        if i == 0:\n",
    "            prep_buffers(nper, bin_out=bin_out, latency_shift=latency_shift)"
   ]
  },
  {
   "cell_type": "markdown",
   "metadata": {},
   "source": [
    "## Send the data"
   ]
  },
  {
   "cell_type": "code",
   "execution_count": 10,
   "metadata": {},
   "outputs": [
    {
     "name": "stdout",
     "output_type": "stream",
     "text": [
      "Sent: 4  Pending: 3\n",
      "Received: 3.\n",
      "Sent: 8  Pending: 4\n",
      "Received: 7.\n",
      "Sent: 12  Pending: 4\n",
      "Received: 11.\n",
      "Sent: 16  Pending: 4\n",
      "Received: 15.\n",
      "Sent: 20  Pending: 4\n",
      "Received: 19.\n",
      "Sent: 24  Pending: 4\n",
      "Received: 23.\n",
      "Sent: 28  Pending: 4\n",
      "Received: 27.\n",
      "Sent: 32  Pending: 4\n",
      "Received: 31.\n",
      "Sent: 36  Pending: 4\n",
      "Received: 35.\n",
      "Sent: 40  Pending: 4\n",
      "Received: 39.\n",
      "Sent: 44  Pending: 4\n",
      "Received: 43.\n",
      "Sent: 48  Pending: 4\n",
      "Received: 47.\n",
      "Sent: 52  Pending: 4\n",
      "Received: 51.\n",
      "Sent: 56  Pending: 4\n",
      "Received: 55.\n",
      "Sent: 60  Pending: 4\n",
      "Received: 59.\n",
      "Sent: 64  Pending: 4\n",
      "Received: 63.\n",
      "Sent: 68  Pending: 4\n",
      "Received: 67.\n",
      "Sent: 72  Pending: 4\n",
      "Received: 71.\n",
      "Sent: 76  Pending: 4\n",
      "Received: 75.\n",
      "Sent: 80  Pending: 4\n",
      "Received: 79.\n",
      "Sent: 84  Pending: 4\n",
      "Received: 83.\n",
      "Sent: 88  Pending: 4\n",
      "Received: 87.\n",
      "Sent: 92  Pending: 4\n",
      "Received: 91.\n",
      "Sent: 96  Pending: 4\n",
      "Received: 95.\n",
      "Sent: 100  Pending: 4\n",
      "Received: 99.\n",
      "Sent: 104  Pending: 4\n",
      "Received: 103.\n",
      "Sent: 108  Pending: 4\n",
      "Received: 107.\n",
      "Sent: 112  Pending: 4\n",
      "Received: 111.\n",
      "Sent: 116  Pending: 4\n",
      "Received: 115.\n",
      "Sent: 120  Pending: 4\n",
      "Received: 119.\n",
      "Sent: 124  Pending: 4\n",
      "Received: 123.\n",
      "Sent: 128  Pending: 4\n",
      "Received: 127.\n",
      "Sent: 132  Pending: 4\n",
      "Received: 131.\n",
      "Sent: 136  Pending: 4\n",
      "Received: 135.\n",
      "Sent: 140  Pending: 4\n",
      "Received: 139.\n",
      "Sent: 144  Pending: 4\n",
      "Received: 143.\n"
     ]
    }
   ],
   "source": [
    "txrx(dma, comb, 4, packets_out, n_total_packets=272, packet_latency=1, in_per_out=1, bin_out=True,\n",
    "         txfp=FP16_15, rxfp=(1,15), wait=True, show=True, tx_post_opfb=False, latency_shift=3*16)"
   ]
  },
  {
   "cell_type": "code",
   "execution_count": 11,
   "metadata": {},
   "outputs": [],
   "source": [
    "#Optionally save the data to the FPGA\n",
    "#if True:\n",
    "#    np.savez(f\"packets_out.npz\", freq=freq, phases=phases, amplitudes=amplitudes, packets_out=packets_out)"
   ]
  },
  {
   "cell_type": "markdown",
   "metadata": {},
   "source": [
    "## Look at the results"
   ]
  },
  {
   "cell_type": "code",
   "execution_count": 12,
   "metadata": {},
   "outputs": [],
   "source": [
    "packets_out=np.flip(packets_out, axis=0)"
   ]
  },
  {
   "cell_type": "code",
   "execution_count": 13,
   "metadata": {},
   "outputs": [
    {
     "data": {
      "text/plain": [
       "[<matplotlib.lines.Line2D at 0x7f97f0c320>]"
      ]
     },
     "execution_count": 13,
     "metadata": {},
     "output_type": "execute_result"
    },
    {
     "data": {
      "image/png": "[encoded data removed]",
      "text/plain": [
       "<matplotlib.figure.Figure at 0x7f9e9599e8>"
      ]
     },
     "metadata": {},
     "output_type": "display_data"
    }
   ],
   "source": [
    "# plot an individual packet\n",
    "packet_num = 17\n",
    "plt.figure(figsize=(15,7))\n",
    "packet = np.fft.fftshift(np.abs(packets_out[packet_num]))\n",
    "plt.plot(packet)"
   ]
  },
  {
   "cell_type": "markdown",
   "metadata": {},
   "source": [
    "## Plot the OPFB Spectra"
   ]
  },
  {
   "cell_type": "markdown",
   "metadata": {},
   "source": [
    "Note pltslc picks out certain FFT frames. We start at 16 with the FPGA data because the first few frames are zeros as the core winds up (check individual packets above). To properly visualize the oversampled spectrum we take the fft of the output time series from each bin. This shows us the frequency content of each bin with spectral resolution 2 MHz/n_packets_received. We stitch the resulting 4096 spectra together, discarding the overlap region, to produce the final, fine spectrum. Not the observed frequency at 0 Hz is the DC offset. This can be mitigated by implementing symmetric rounding to zero at the cost of FPGA resources."
   ]
  },
  {
   "cell_type": "code",
   "execution_count": 14,
   "metadata": {},
   "outputs": [
    {
     "name": "stderr",
     "output_type": "stream",
     "text": [
      "/home/xilinx/src/mkidgen3/mkidgen3/testutils.py:255: RuntimeWarning: divide by zero encountered in log10\n",
      "  data = np.abs(data) if linear else 20 * np.log10(np.abs(data))\n"
     ]
    },
    {
     "data": {
      "image/png": "[encoded data removed]",
      "text/plain": [
       "<matplotlib.figure.Figure at 0x7f97f0c860>"
      ]
     },
     "metadata": {},
     "output_type": "display_data"
    }
   ],
   "source": [
    "pltslc=slice(16,272)\n",
    "fpgaplotdata = extract_opfb_spec(do_fft(packets_out, sl=pltslc))\n",
    "plt.figure(figsize=(15,7))\n",
    "plt.plot(*fpgaplotdata, label='fpga', linewidth=.5)\n",
    "plt.xlabel('Frequency (MHz)')\n",
    "plt.ylabel('Power (dB)')\n",
    "plt.ylim([-100,60])\n",
    "plt.xlim([295,305])\n",
    "plt.grid()\n",
    "plt.title('OPFB Spectrum')\n",
    "plt.show()"
   ]
  },
  {
   "cell_type": "markdown",
   "metadata": {},
   "source": [
    "### Lets compute the FIR in python to compare with the FPGA"
   ]
  },
  {
   "cell_type": "markdown",
   "metadata": {},
   "source": [
    "This will give us some idea if the OPFB is working properly. Note we have only implemented the filters in fixed-point. The FFT is still done in software with floating point precision. Likely, this is the cause of disagreements we see between the FPGA output spectrum and the fixed-point simulation."
   ]
  },
  {
   "cell_type": "code",
   "execution_count": 15,
   "metadata": {
    "scrolled": true
   },
   "outputs": [],
   "source": [
    "# Load the FIR Coefficients\n",
    "coeffs=np.zeros((16,256,8))  #lane, coeff set, c7-0\n",
    "for i in range(16):\n",
    "    with open(f\"data/lane{i}.coe\",'r') as f:\n",
    "        lines=f.readlines()[1:]\n",
    "    lines[0]=lines[0].partition('=')[-1]\n",
    "    coeffs[i]=np.array(list(map(float,''.join(lines).replace(';','').replace('\\n','').split(',')))).reshape(256,8)\n",
    "\n",
    "# Cast coefficients and data to fixed point    \n",
    "fpcomb16_15=fparray(comb, FP16_15)\n",
    "fpcoeff16_26=fparray(coeffs, FP16_26)\n",
    "\n",
    "# Do PFB + FFT\n",
    "pfb_fp16=do_fixed_point_pfb(fpcomb16_15, fpcoeff16_26)\n",
    "fp_opfb=np.fft.fft(pfb_fp16.reshape(pfb_fp16.shape[0], n_bin), axis=1) #shifting here causes problems for plotting"
   ]
  },
  {
   "cell_type": "code",
   "execution_count": 1,
   "metadata": {},
   "outputs": [
    {
     "ename": "NameError",
     "evalue": "name 'extract_opfb_spec' is not defined",
     "output_type": "error",
     "traceback": [
      "\u001b[0;31m---------------------------------------------------------------------------\u001b[0m",
      "\u001b[0;31mNameError\u001b[0m                                 Traceback (most recent call last)",
      "\u001b[0;32m<ipython-input-1-d4027b34d9d9>\u001b[0m in \u001b[0;36m<module>\u001b[0;34m()\u001b[0m\n\u001b[1;32m      1\u001b[0m \u001b[0;31m#Generate spectra\u001b[0m\u001b[0;34m\u001b[0m\u001b[0;34m\u001b[0m\u001b[0m\n\u001b[1;32m      2\u001b[0m \u001b[0mpltslc\u001b[0m\u001b[0;34m=\u001b[0m\u001b[0mslice\u001b[0m\u001b[0;34m(\u001b[0m\u001b[0;36m16\u001b[0m\u001b[0;34m,\u001b[0m\u001b[0;36m144\u001b[0m\u001b[0;34m)\u001b[0m\u001b[0;34m\u001b[0m\u001b[0m\n\u001b[0;32m----> 3\u001b[0;31m \u001b[0mfpgaplotdata\u001b[0m \u001b[0;34m=\u001b[0m \u001b[0mextract_opfb_spec\u001b[0m\u001b[0;34m(\u001b[0m\u001b[0mdo_fft\u001b[0m\u001b[0;34m(\u001b[0m\u001b[0mpackets_out\u001b[0m\u001b[0;34m,\u001b[0m \u001b[0msl\u001b[0m\u001b[0;34m=\u001b[0m\u001b[0mpltslc\u001b[0m\u001b[0;34m)\u001b[0m\u001b[0;34m)\u001b[0m\u001b[0;34m\u001b[0m\u001b[0m\n\u001b[0m\u001b[1;32m      4\u001b[0m \u001b[0mplotdata_fp16\u001b[0m \u001b[0;34m=\u001b[0m \u001b[0mextract_opfb_spec\u001b[0m\u001b[0;34m(\u001b[0m\u001b[0mdo_fft\u001b[0m\u001b[0;34m(\u001b[0m\u001b[0mpfb_fp16\u001b[0m\u001b[0;34m,\u001b[0m \u001b[0msl\u001b[0m\u001b[0;34m=\u001b[0m\u001b[0mslice\u001b[0m\u001b[0;34m(\u001b[0m\u001b[0;36m16\u001b[0m\u001b[0;34m,\u001b[0m\u001b[0;36m144\u001b[0m\u001b[0;34m)\u001b[0m\u001b[0;34m,\u001b[0m \u001b[0mdo_pfb_fft\u001b[0m\u001b[0;34m=\u001b[0m\u001b[0;32mTrue\u001b[0m\u001b[0;34m,\u001b[0m \u001b[0mroll_pfb_fft\u001b[0m\u001b[0;34m=\u001b[0m\u001b[0;36m0\u001b[0m\u001b[0;34m)\u001b[0m\u001b[0;34m)\u001b[0m\u001b[0;34m\u001b[0m\u001b[0m\n",
      "\u001b[0;31mNameError\u001b[0m: name 'extract_opfb_spec' is not defined"
     ]
    }
   ],
   "source": [
    "#Generate spectra\n",
    "pltslc=slice(16,144)\n",
    "fpgaplotdata = extract_opfb_spec(do_fft(packets_out, sl=pltslc))\n",
    "plotdata_fp16 = extract_opfb_spec(do_fft(pfb_fp16, sl=slice(16,144), do_pfb_fft=True, roll_pfb_fft=0))"
   ]
  },
  {
   "cell_type": "code",
   "execution_count": 2,
   "metadata": {
    "scrolled": false
   },
   "outputs": [
    {
     "ename": "NameError",
     "evalue": "name 'plt' is not defined",
     "output_type": "error",
     "traceback": [
      "\u001b[0;31m---------------------------------------------------------------------------\u001b[0m",
      "\u001b[0;31mNameError\u001b[0m                                 Traceback (most recent call last)",
      "\u001b[0;32m<ipython-input-2-4b68fa4b3d47>\u001b[0m in \u001b[0;36m<module>\u001b[0;34m()\u001b[0m\n\u001b[0;32m----> 1\u001b[0;31m \u001b[0mplt\u001b[0m\u001b[0;34m.\u001b[0m\u001b[0mfigure\u001b[0m\u001b[0;34m(\u001b[0m\u001b[0mfigsize\u001b[0m\u001b[0;34m=\u001b[0m\u001b[0;34m(\u001b[0m\u001b[0;36m15\u001b[0m\u001b[0;34m,\u001b[0m\u001b[0;36m7\u001b[0m\u001b[0;34m)\u001b[0m\u001b[0;34m)\u001b[0m\u001b[0;34m\u001b[0m\u001b[0m\n\u001b[0m\u001b[1;32m      2\u001b[0m \u001b[0mplt\u001b[0m\u001b[0;34m.\u001b[0m\u001b[0mplot\u001b[0m\u001b[0;34m(\u001b[0m\u001b[0;34m*\u001b[0m\u001b[0mplotdata_fp16\u001b[0m\u001b[0;34m,\u001b[0m\u001b[0mlabel\u001b[0m\u001b[0;34m=\u001b[0m\u001b[0;34m'fp16'\u001b[0m\u001b[0;34m,\u001b[0m \u001b[0mlinewidth\u001b[0m\u001b[0;34m=\u001b[0m\u001b[0;36m.8\u001b[0m\u001b[0;34m)\u001b[0m\u001b[0;34m\u001b[0m\u001b[0m\n\u001b[1;32m      3\u001b[0m \u001b[0;31m#plt.plot(*fpgaplotdata, label='fpga', linewidth=1)\u001b[0m\u001b[0;34m\u001b[0m\u001b[0;34m\u001b[0m\u001b[0m\n\u001b[1;32m      4\u001b[0m \u001b[0mplt\u001b[0m\u001b[0;34m.\u001b[0m\u001b[0mlegend\u001b[0m\u001b[0;34m(\u001b[0m\u001b[0;34m)\u001b[0m\u001b[0;34m\u001b[0m\u001b[0m\n\u001b[1;32m      5\u001b[0m \u001b[0mplt\u001b[0m\u001b[0;34m.\u001b[0m\u001b[0mxlabel\u001b[0m\u001b[0;34m(\u001b[0m\u001b[0;34m'Frequency (MHz)'\u001b[0m\u001b[0;34m)\u001b[0m\u001b[0;34m\u001b[0m\u001b[0m\n",
      "\u001b[0;31mNameError\u001b[0m: name 'plt' is not defined"
     ]
    }
   ],
   "source": [
    "plt.figure(figsize=(15,7))\n",
    "plt.plot(*plotdata_fp16,label='fp16', linewidth=.8)\n",
    "#plt.plot(*fpgaplotdata, label='fpga', linewidth=1)\n",
    "plt.legend()\n",
    "plt.xlabel('Frequency (MHz)')\n",
    "plt.ylabel('Power (dB)')\n",
    "plt.grid()\n",
    "plt.title('OPFB Spectrum')\n",
    "plt.show()"
   ]
  },
  {
   "cell_type": "code",
   "execution_count": null,
   "metadata": {},
   "outputs": [],
   "source": []
  }
 ],
 "metadata": {
  "kernelspec": {
   "display_name": "Python 3",
   "language": "python",
   "name": "python3"
  },
  "language_info": {
   "codemirror_mode": {
    "name": "ipython",
    "version": 3
   },
   "file_extension": ".py",
   "mimetype": "text/x-python",
   "name": "python",
   "nbconvert_exporter": "python",
   "pygments_lexer": "ipython3",
   "version": "3.6.5"
  },
  "toc": {
   "base_numbering": 1,
   "nav_menu": {},
   "number_sections": true,
   "sideBar": true,
   "skip_h1_title": false,
   "title_cell": "Table of Contents",
   "title_sidebar": "Contents",
   "toc_cell": false,
   "toc_position": {},
   "toc_section_display": true,
   "toc_window_display": false
  }
 },
 "nbformat": 4,
 "nbformat_minor": 1
}
